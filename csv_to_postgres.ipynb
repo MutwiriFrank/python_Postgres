{
 "cells": [
  {
   "cell_type": "markdown",
   "metadata": {},
   "source": [
    "#### Steps\n",
    "\n",
    "- Import data /\n",
    "- Clean file name /\n",
    "- Clean columns name\n",
    "- Create table on db using sql\n",
    "- Import data to db"
   ]
  },
  {
   "cell_type": "code",
   "execution_count": 29,
   "metadata": {},
   "outputs": [],
   "source": [
    "import os\n"
   ]
  },
  {
   "cell_type": "code",
   "execution_count": 3,
   "metadata": {},
   "outputs": [],
   "source": [
    "# import libraries\n",
    "\n",
    "import pandas as pd\n",
    "import numpy as np\n",
    "import os\n",
    "import psycopg2"
   ]
  },
  {
   "cell_type": "code",
   "execution_count": 31,
   "metadata": {},
   "outputs": [
    {
     "name": "stdout",
     "output_type": "stream",
     "text": [
      "csv_to_postgres.ipynb  hotel_data\r\n"
     ]
    }
   ],
   "source": [
    "!ls"
   ]
  },
  {
   "cell_type": "code",
   "execution_count": 85,
   "metadata": {},
   "outputs": [
    {
     "name": "stdout",
     "output_type": "stream",
     "text": [
      "hotel_revenue_2018.csv\thotel_revenue_2020.csv\tmeal_cost.csv\r\n",
      "hotel_revenue_2019.csv\tmarket_segment.csv\r\n"
     ]
    }
   ],
   "source": [
    "!cd hotel_data && ls\n"
   ]
  },
  {
   "cell_type": "code",
   "execution_count": 86,
   "metadata": {},
   "outputs": [
    {
     "name": "stdout",
     "output_type": "stream",
     "text": [
      "csv_to_postgres.ipynb  \u001b[0m\u001b[01;34mhotel_data\u001b[0m/  hotel_revenue_2020.csv\r\n"
     ]
    }
   ],
   "source": [
    "ls"
   ]
  },
  {
   "cell_type": "code",
   "execution_count": 4,
   "metadata": {},
   "outputs": [
    {
     "data": {
      "text/html": [
       "<div>\n",
       "<style scoped>\n",
       "    .dataframe tbody tr th:only-of-type {\n",
       "        vertical-align: middle;\n",
       "    }\n",
       "\n",
       "    .dataframe tbody tr th {\n",
       "        vertical-align: top;\n",
       "    }\n",
       "\n",
       "    .dataframe thead th {\n",
       "        text-align: right;\n",
       "    }\n",
       "</style>\n",
       "<table border=\"1\" class=\"dataframe\">\n",
       "  <thead>\n",
       "    <tr style=\"text-align: right;\">\n",
       "      <th></th>\n",
       "      <th>hotel</th>\n",
       "      <th>is_canceled</th>\n",
       "      <th>lead_time</th>\n",
       "      <th>arrival_date_year</th>\n",
       "      <th>arrival_date_month</th>\n",
       "      <th>arrival_date_week_number</th>\n",
       "      <th>arrival_date_day_of_month</th>\n",
       "      <th>stays_in_weekend_nights</th>\n",
       "      <th>stays_in_week_nights</th>\n",
       "      <th>adults</th>\n",
       "      <th>...</th>\n",
       "      <th>agent</th>\n",
       "      <th>company</th>\n",
       "      <th>days_in_waiting_list</th>\n",
       "      <th>customer_type</th>\n",
       "      <th>adr</th>\n",
       "      <th>required_car_parking_spaces</th>\n",
       "      <th>total_of_special_requests</th>\n",
       "      <th>reservation_status</th>\n",
       "      <th>reservation_status_date</th>\n",
       "      <th>revenue</th>\n",
       "    </tr>\n",
       "  </thead>\n",
       "  <tbody>\n",
       "    <tr>\n",
       "      <th>40682</th>\n",
       "      <td>City Hotel</td>\n",
       "      <td>1</td>\n",
       "      <td>1</td>\n",
       "      <td>2020</td>\n",
       "      <td>February</td>\n",
       "      <td>5</td>\n",
       "      <td>1</td>\n",
       "      <td>0</td>\n",
       "      <td>0</td>\n",
       "      <td>1</td>\n",
       "      <td>...</td>\n",
       "      <td>NaN</td>\n",
       "      <td>153.0</td>\n",
       "      <td>0</td>\n",
       "      <td>Transient</td>\n",
       "      <td>0.0</td>\n",
       "      <td>0</td>\n",
       "      <td>1</td>\n",
       "      <td>No-Show</td>\n",
       "      <td>2/1/2020</td>\n",
       "      <td>0.0</td>\n",
       "    </tr>\n",
       "    <tr>\n",
       "      <th>40683</th>\n",
       "      <td>City Hotel</td>\n",
       "      <td>1</td>\n",
       "      <td>31</td>\n",
       "      <td>2020</td>\n",
       "      <td>July</td>\n",
       "      <td>29</td>\n",
       "      <td>16</td>\n",
       "      <td>2</td>\n",
       "      <td>0</td>\n",
       "      <td>1</td>\n",
       "      <td>...</td>\n",
       "      <td>NaN</td>\n",
       "      <td>NaN</td>\n",
       "      <td>0</td>\n",
       "      <td>Transient</td>\n",
       "      <td>135.0</td>\n",
       "      <td>0</td>\n",
       "      <td>2</td>\n",
       "      <td>No-Show</td>\n",
       "      <td>7/16/2020</td>\n",
       "      <td>270.0</td>\n",
       "    </tr>\n",
       "    <tr>\n",
       "      <th>40684</th>\n",
       "      <td>City Hotel</td>\n",
       "      <td>1</td>\n",
       "      <td>25</td>\n",
       "      <td>2020</td>\n",
       "      <td>May</td>\n",
       "      <td>18</td>\n",
       "      <td>6</td>\n",
       "      <td>2</td>\n",
       "      <td>1</td>\n",
       "      <td>1</td>\n",
       "      <td>...</td>\n",
       "      <td>NaN</td>\n",
       "      <td>450.0</td>\n",
       "      <td>0</td>\n",
       "      <td>Transient</td>\n",
       "      <td>125.0</td>\n",
       "      <td>0</td>\n",
       "      <td>0</td>\n",
       "      <td>No-Show</td>\n",
       "      <td>5/6/2020</td>\n",
       "      <td>375.0</td>\n",
       "    </tr>\n",
       "    <tr>\n",
       "      <th>40685</th>\n",
       "      <td>City Hotel</td>\n",
       "      <td>1</td>\n",
       "      <td>6</td>\n",
       "      <td>2020</td>\n",
       "      <td>July</td>\n",
       "      <td>29</td>\n",
       "      <td>17</td>\n",
       "      <td>1</td>\n",
       "      <td>0</td>\n",
       "      <td>1</td>\n",
       "      <td>...</td>\n",
       "      <td>NaN</td>\n",
       "      <td>238.0</td>\n",
       "      <td>0</td>\n",
       "      <td>Transient</td>\n",
       "      <td>65.0</td>\n",
       "      <td>0</td>\n",
       "      <td>0</td>\n",
       "      <td>No-Show</td>\n",
       "      <td>7/17/2020</td>\n",
       "      <td>65.0</td>\n",
       "    </tr>\n",
       "    <tr>\n",
       "      <th>40686</th>\n",
       "      <td>City Hotel</td>\n",
       "      <td>1</td>\n",
       "      <td>0</td>\n",
       "      <td>2020</td>\n",
       "      <td>August</td>\n",
       "      <td>31</td>\n",
       "      <td>2</td>\n",
       "      <td>0</td>\n",
       "      <td>2</td>\n",
       "      <td>1</td>\n",
       "      <td>...</td>\n",
       "      <td>NaN</td>\n",
       "      <td>40.0</td>\n",
       "      <td>0</td>\n",
       "      <td>Transient</td>\n",
       "      <td>65.0</td>\n",
       "      <td>0</td>\n",
       "      <td>1</td>\n",
       "      <td>No-Show</td>\n",
       "      <td>8/2/2020</td>\n",
       "      <td>130.0</td>\n",
       "    </tr>\n",
       "  </tbody>\n",
       "</table>\n",
       "<p>5 rows × 33 columns</p>\n",
       "</div>"
      ],
      "text/plain": [
       "            hotel  is_canceled  lead_time  arrival_date_year  \\\n",
       "40682  City Hotel            1          1               2020   \n",
       "40683  City Hotel            1         31               2020   \n",
       "40684  City Hotel            1         25               2020   \n",
       "40685  City Hotel            1          6               2020   \n",
       "40686  City Hotel            1          0               2020   \n",
       "\n",
       "      arrival_date_month  arrival_date_week_number  arrival_date_day_of_month  \\\n",
       "40682           February                         5                          1   \n",
       "40683               July                        29                         16   \n",
       "40684                May                        18                          6   \n",
       "40685               July                        29                         17   \n",
       "40686             August                        31                          2   \n",
       "\n",
       "       stays_in_weekend_nights  stays_in_week_nights  adults  ...  agent  \\\n",
       "40682                        0                     0       1  ...    NaN   \n",
       "40683                        2                     0       1  ...    NaN   \n",
       "40684                        2                     1       1  ...    NaN   \n",
       "40685                        1                     0       1  ...    NaN   \n",
       "40686                        0                     2       1  ...    NaN   \n",
       "\n",
       "       company days_in_waiting_list customer_type    adr  \\\n",
       "40682    153.0                    0     Transient    0.0   \n",
       "40683      NaN                    0     Transient  135.0   \n",
       "40684    450.0                    0     Transient  125.0   \n",
       "40685    238.0                    0     Transient   65.0   \n",
       "40686     40.0                    0     Transient   65.0   \n",
       "\n",
       "      required_car_parking_spaces  total_of_special_requests  \\\n",
       "40682                           0                          1   \n",
       "40683                           0                          2   \n",
       "40684                           0                          0   \n",
       "40685                           0                          0   \n",
       "40686                           0                          1   \n",
       "\n",
       "       reservation_status  reservation_status_date revenue  \n",
       "40682             No-Show                 2/1/2020     0.0  \n",
       "40683             No-Show                7/16/2020   270.0  \n",
       "40684             No-Show                 5/6/2020   375.0  \n",
       "40685             No-Show                7/17/2020    65.0  \n",
       "40686             No-Show                 8/2/2020   130.0  \n",
       "\n",
       "[5 rows x 33 columns]"
      ]
     },
     "execution_count": 4,
     "metadata": {},
     "output_type": "execute_result"
    }
   ],
   "source": [
    "df1 = pd.read_csv('hotel_data/hotel_revenue_2018.csv')\n",
    "df2 = pd.read_csv('hotel_data/hotel_revenue_2019.csv')\n",
    "df3 = pd.read_csv('hotel_data/hotel_revenue_2020.csv')\n",
    "combined_df = df = pd.concat([df1, df2, df3])\n",
    "df['revenue'] = (combined_df['stays_in_weekend_nights']+combined_df['stays_in_week_nights'])  * combined_df['adr']\n",
    "len(combined_df.index)\n",
    "combined_df.tail()"
   ]
  },
  {
   "cell_type": "code",
   "execution_count": 7,
   "metadata": {},
   "outputs": [
    {
     "data": {
      "text/plain": [
       "0        BB\n",
       "1        HB\n",
       "2        BB\n",
       "3        BB\n",
       "4        BB\n",
       "         ..\n",
       "21991    BB\n",
       "21992    BB\n",
       "21993    BB\n",
       "21994    BB\n",
       "21995    BB\n",
       "Name: meal, Length: 21996, dtype: object"
      ]
     },
     "execution_count": 7,
     "metadata": {},
     "output_type": "execute_result"
    }
   ],
   "source": [
    "df1['meal']\n"
   ]
  },
  {
   "cell_type": "code",
   "execution_count": 227,
   "metadata": {},
   "outputs": [
    {
     "data": {
      "text/plain": [
       "arrival_date_year  hotel       \n",
       "2018               City Hotel      3291708.050\n",
       "                   Resort Hotel    3526408.510\n",
       "2019               City Hotel     15115188.120\n",
       "                   Resort Hotel   10706271.520\n",
       "2020               City Hotel     10198180.780\n",
       "                   Resort Hotel    6836598.990\n",
       "Name: revenue, dtype: float64"
      ]
     },
     "execution_count": 227,
     "metadata": {},
     "output_type": "execute_result"
    }
   ],
   "source": [
    "pd.set_option('display.float_format', lambda x: '%.3f' % x)\n",
    "\n",
    "df2 = combined_df.groupby(['arrival_date_year', 'hotel'])['revenue'].sum()\n",
    "df2"
   ]
  },
  {
   "cell_type": "code",
   "execution_count": 193,
   "metadata": {},
   "outputs": [
    {
     "data": {
      "text/html": [
       "<div>\n",
       "<style scoped>\n",
       "    .dataframe tbody tr th:only-of-type {\n",
       "        vertical-align: middle;\n",
       "    }\n",
       "\n",
       "    .dataframe tbody tr th {\n",
       "        vertical-align: top;\n",
       "    }\n",
       "\n",
       "    .dataframe thead th {\n",
       "        text-align: right;\n",
       "    }\n",
       "</style>\n",
       "<table border=\"1\" class=\"dataframe\">\n",
       "  <thead>\n",
       "    <tr style=\"text-align: right;\">\n",
       "      <th></th>\n",
       "      <th>Cost</th>\n",
       "      <th>meal</th>\n",
       "    </tr>\n",
       "  </thead>\n",
       "  <tbody>\n",
       "    <tr>\n",
       "      <th>0</th>\n",
       "      <td>0.00</td>\n",
       "      <td>Undefined</td>\n",
       "    </tr>\n",
       "    <tr>\n",
       "      <th>1</th>\n",
       "      <td>12.99</td>\n",
       "      <td>BB</td>\n",
       "    </tr>\n",
       "    <tr>\n",
       "      <th>2</th>\n",
       "      <td>17.99</td>\n",
       "      <td>HB</td>\n",
       "    </tr>\n",
       "    <tr>\n",
       "      <th>3</th>\n",
       "      <td>21.99</td>\n",
       "      <td>FB</td>\n",
       "    </tr>\n",
       "    <tr>\n",
       "      <th>4</th>\n",
       "      <td>35.00</td>\n",
       "      <td>SC</td>\n",
       "    </tr>\n",
       "  </tbody>\n",
       "</table>\n",
       "</div>"
      ],
      "text/plain": [
       "    Cost       meal\n",
       "0   0.00  Undefined\n",
       "1  12.99         BB\n",
       "2  17.99         HB\n",
       "3  21.99         FB\n",
       "4  35.00         SC"
      ]
     },
     "execution_count": 193,
     "metadata": {},
     "output_type": "execute_result"
    }
   ],
   "source": [
    "# df = pd.read_csv('hotel_data/hotel_revenue_2020.csv')\n",
    "df = pd.read_csv('hotel_data/meal_cost.csv')\n",
    "\n",
    "df.head()"
   ]
  },
  {
   "cell_type": "code",
   "execution_count": 174,
   "metadata": {},
   "outputs": [],
   "source": [
    "# # rename column to see errors\n",
    "# # df.rename(index={0: \"x\", 1: \"y\", 2: \"z\"})\n",
    "# df.rename(columns={\"is_canceled\": \"Is Canceled\"}, inplace=True)\n",
    "# df.head()"
   ]
  },
  {
   "cell_type": "markdown",
   "metadata": {},
   "source": [
    "#### clean_table_names\n",
    "- remove capital letters\n",
    "- replace whitespace with\n",
    "- replace special characters with _"
   ]
  },
  {
   "cell_type": "code",
   "execution_count": 194,
   "metadata": {},
   "outputs": [
    {
     "data": {
      "text/plain": [
       "'meal_cost.csv'"
      ]
     },
     "execution_count": 194,
     "metadata": {},
     "output_type": "execute_result"
    }
   ],
   "source": [
    "\n",
    "# clean file name \n",
    "\n",
    "file = 'meal_cost.csv'\n",
    "\n",
    "cln_tbl_name = file.lower().replace(' ', '_').replace('!', '_').replace('#', '_').replace('%', '_') \\\n",
    "                .replace('^', '_').replace('&', '').replace('*', '').replace('-', '_').replace('+ ', '_') \\\n",
    "                .replace('=', '_').replace('@', '').replace(r\"\\\\\", '').replace(r'(','').replace(r')', '') \\\n",
    "                .replace(r\"/\",\"_\").replace(r\":\",\"\").replace('?', '_')\n",
    "cln_tbl_name"
   ]
  },
  {
   "cell_type": "code",
   "execution_count": 195,
   "metadata": {},
   "outputs": [
    {
     "data": {
      "text/plain": [
       "Index(['cost', 'meal'], dtype='object')"
      ]
     },
     "execution_count": 195,
     "metadata": {},
     "output_type": "execute_result"
    }
   ],
   "source": [
    "# clean columns name\n",
    "\n",
    "df.columns = (x.lower().replace(' ', '_').replace('!', '_').replace('#', '_').replace('%', '_') \\\n",
    "                .replace('^', '_').replace('&', '').replace('*', '').replace('-', '_').replace('+ ', '_') \\\n",
    "                .replace('=', '_').replace('@', '').replace(r\"\\\\\", '').replace(r'(','').replace(r')', '') \\\n",
    "                .replace(r\"/\",\"_\").replace(r\":\",\"\").replace('?', '_') for x in df.columns)\n",
    "df.columns"
   ]
  },
  {
   "cell_type": "code",
   "execution_count": 196,
   "metadata": {},
   "outputs": [
    {
     "data": {
      "text/plain": [
       "cost    float64\n",
       "meal     object\n",
       "dtype: object"
      ]
     },
     "execution_count": 196,
     "metadata": {},
     "output_type": "execute_result"
    }
   ],
   "source": [
    "df.dtypes\n"
   ]
  },
  {
   "cell_type": "code",
   "execution_count": 179,
   "metadata": {},
   "outputs": [],
   "source": [
    "# convert any column data types\n",
    "# df['reservation_status_date'] = pd.to_datetime(df['reservation_status_date'])"
   ]
  },
  {
   "cell_type": "code",
   "execution_count": 197,
   "metadata": {},
   "outputs": [
    {
     "data": {
      "text/plain": [
       "cost    float64\n",
       "meal     object\n",
       "dtype: object"
      ]
     },
     "execution_count": 197,
     "metadata": {},
     "output_type": "execute_result"
    }
   ],
   "source": [
    "df.dtypes\n"
   ]
  },
  {
   "cell_type": "code",
   "execution_count": 198,
   "metadata": {},
   "outputs": [
    {
     "data": {
      "text/plain": [
       "{'object': 'varchar',\n",
       " 'float64': 'float',\n",
       " 'int64': 'int',\n",
       " 'datetime64': 'timestamp',\n",
       " 'datetime64[ns]': 'timestamp',\n",
       " 'timedelta64[ns]': 'varchar'}"
      ]
     },
     "execution_count": 198,
     "metadata": {},
     "output_type": "execute_result"
    }
   ],
   "source": [
    "# Mapping object types\n",
    "replacements = {\n",
    "    \"object\": \"varchar\",\n",
    "    \"float64\" : \"float\",\n",
    "    \"int64\" : \"int\",\n",
    "    \"datetime64\" : \"timestamp\",\n",
    "    \"datetime64[ns]\" : \"timestamp\",\n",
    "    \"timedelta64[ns]\": \"varchar\",    \n",
    "}\n",
    "replacements"
   ]
  },
  {
   "cell_type": "code",
   "execution_count": 199,
   "metadata": {},
   "outputs": [
    {
     "data": {
      "text/plain": [
       "'cost float, meal varchar'"
      ]
     },
     "execution_count": 199,
     "metadata": {},
     "output_type": "execute_result"
    }
   ],
   "source": [
    "col_str = \", \".join(\"{} {}\".format(n,d) for(n, d) in zip(df.columns, df.dtypes.replace(replacements)))\n",
    "col_str"
   ]
  },
  {
   "cell_type": "code",
   "execution_count": 200,
   "metadata": {},
   "outputs": [
    {
     "name": "stdout",
     "output_type": "stream",
     "text": [
      "opned db succussfully\n"
     ]
    }
   ],
   "source": [
    "# open database connection\n",
    "conn_string = \"host=127.0.0.1, dbname='testdb' user='pgadmin' password='postgres' \"\n",
    "\n",
    "#  connect to db\n",
    "conn = psycopg2.connect(conn_string)\n",
    "cursor = conn.cursor()\n",
    "print (\"opned db succussfully\")"
   ]
  },
  {
   "cell_type": "code",
   "execution_count": 201,
   "metadata": {},
   "outputs": [],
   "source": [
    "# drop tables with same name to prevent conflicts\n",
    "#  Instaert data to tables\n",
    "\n",
    "cursor.execute('drop table if exists meal_cost;')\n"
   ]
  },
  {
   "cell_type": "code",
   "execution_count": 202,
   "metadata": {},
   "outputs": [
    {
     "name": "stdout",
     "output_type": "stream",
     "text": [
      "table created successfully\n"
     ]
    }
   ],
   "source": [
    "#  create table\n",
    "cursor.execute(\"create table meal_cost \\\n",
    "                (cost float, meal varchar)\")\n",
    "print(\"table created successfully\")\n"
   ]
  },
  {
   "cell_type": "code",
   "execution_count": 203,
   "metadata": {},
   "outputs": [
    {
     "name": "stdout",
     "output_type": "stream",
     "text": [
      "file opened in memory\n"
     ]
    }
   ],
   "source": [
    "# save df as csv\n",
    "df.to_csv('meal_cost.csv', header=df.columns, index=False, encoding='utf-8')\n",
    "\n",
    "# open the csv file and save it as an object\n",
    "my_file = open('meal_cost.csv')\n",
    "print(\"file opened in memory\")\n"
   ]
  },
  {
   "cell_type": "code",
   "execution_count": 204,
   "metadata": {},
   "outputs": [
    {
     "name": "stdout",
     "output_type": "stream",
     "text": [
      "file copied to db\n"
     ]
    }
   ],
   "source": [
    "# upload csv to db\n",
    "SQL_STATEMENT = \"\"\"\n",
    "    COPY meal_cost FROM STDIN WITH\n",
    "    CSV\n",
    "    HEADER\n",
    "    DELIMITER AS ','  \n",
    "\"\"\"\n",
    "cursor.copy_expert(sql=SQL_STATEMENT, file=my_file)\n",
    "print(\"file copied to db\")"
   ]
  },
  {
   "cell_type": "code",
   "execution_count": 205,
   "metadata": {},
   "outputs": [
    {
     "name": "stdout",
     "output_type": "stream",
     "text": [
      "content imported to db and connection closed\n"
     ]
    }
   ],
   "source": [
    "# grant table access to public\n",
    "cursor.execute('grant select on table meal_cost to public')\n",
    "conn.commit()\n",
    "cursor.close()\n",
    "print(\"content imported to db and connection closed\")"
   ]
  },
  {
   "cell_type": "code",
   "execution_count": 207,
   "metadata": {},
   "outputs": [],
   "source": [
    "my_file.close()"
   ]
  },
  {
   "cell_type": "code",
   "execution_count": null,
   "metadata": {},
   "outputs": [],
   "source": []
  }
 ],
 "metadata": {
  "kernelspec": {
   "display_name": "Python 3",
   "language": "python",
   "name": "python3"
  },
  "language_info": {
   "codemirror_mode": {
    "name": "ipython",
    "version": 3
   },
   "file_extension": ".py",
   "mimetype": "text/x-python",
   "name": "python",
   "nbconvert_exporter": "python",
   "pygments_lexer": "ipython3",
   "version": "3.7.6"
  }
 },
 "nbformat": 4,
 "nbformat_minor": 4
}
